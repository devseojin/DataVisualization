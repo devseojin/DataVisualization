{
 "cells": [
  {
   "cell_type": "markdown",
   "metadata": {},
   "source": [
    "# 9. 실제 데이터 가공"
   ]
  },
  {
   "cell_type": "code",
   "execution_count": 1,
   "metadata": {},
   "outputs": [
    {
     "name": "stdout",
     "output_type": "stream",
     "text": [
      "문재인 대통령님을 응원 합니다!\n",
      "신천지 예수교 증거장막성전(이하, 신천지)의 강제 해체(해산)을 청원합니다.\n",
      "텔레그램 n번방 용의자 신상공개 및 포토라인 세워주세요\n",
      "텔레그램 n번방 가입자 전원의 신상공개를 원합니다\n",
      "코로나19의 확산방지를 위해 애써주시는 문재인대통령님과 질병관리본부 및 정부부처 관계자분들…\n",
      "한전 사업에 중국 기업의 참여를 허락하는 것은 말도 안됩니다.\n",
      "코로나19로 위기에 처한  국민들을위해 국회의원들의 월급반납 또는 삭감을  건의합니다\n",
      "문재인 대통령님의 탄핵을 원하지 않습니다.\n",
      "[국민청원(안)] 신천지 교주 이**의 즉각적인 구속수사를 촉구합니다.\n",
      "저희 25개월딸이 초등학생 5학년에게 성폭행을 당했습니다\n",
      "중국인 영주권자의 지방선거 투표권 박탈해야합니다.\n",
      "성전환 수술, 즉 외부성기 수술 없이도 남녀 성별을 변경하는 성별정정을 막아 주십시오.\n",
      "문재인대통령의 탄핵을 반대합니다!!~\n",
      "코로나 19 대책 및 문재인 대통령 하야추천\n",
      "대학교 개강 연기에 따른 등록금 인하 건의(02.29)\n",
      "윤석렬 총장에 대한 법무부 감찰을 요청합니다\n",
      "개학을 연기하고 휴업단계를 3단계로 올려주세요\n",
      "역차별, 현장 갈등 유발하는 교육공무직에 대해 다음과 같이 요구합니다.\n",
      "권영진 대구시장의 파면을 요구합니다\n",
      "대구 시민입니다 지금 너무나 분하고 슬프고 아픔니다\n",
      "\"신천지 압수수색은 신중해야\"외치는 검찰총장 윤석열의 파면을 요구합니다.\n",
      "마스크판매에 대한 제안\n",
      "의사협회 집행부들의 아집이 선을 넘었습니다.\n",
      "저는 아버지에게 15년동안 성폭행을 당했습니다. 도와주세요.\n",
      "코로나 **번째 무모한행동 강력처벌 원합니다\n",
      "학원에도 정부지원 휴업령이 필요합니다!\n",
      "가해자 n번방박사,n번방회원 모두 처벌해주세요\n",
      "수의사의 동물학대 사건을 검찰에서 법적용을 잘못해 무죄가 되었습니다\n",
      "문재인 대통령 탄핵 청원에 대한 반대 청원 및 게시글 삭제 청원\n",
      "N번방 대화 참여자들도 명단을 공개하고 처벌해주십시오\n",
      "텔레그램 아동.청소년 성노예 사건 철저한 수사 및 처벌 촉구합니다!!\n",
      "초등학생을 성폭행하고 찍은 불법촬영물로 협박해 금품을 갈취하여 인생을 망가뜨린 고등학생의 …\n",
      "마스크를 주민센터 세대명부대로 공급해 주세요\n",
      "조희연 교육감의 사퇴를 요구합니다\n",
      "시민들을 불안하게 하는 권영진 대구시장을 탄핵 청원합니다.\n",
      "전**목사님의 구속 취소를 청원 합니다\n",
      "유튜버 김** 10분동안 폭행, 소주병으로 머리 내리친 가해자 처벌 강화\n",
      "신천지 교주 이** 국가유공자 취소를 신청합니다!\n",
      "대구광역시를 특별재난지역으로 선포해 주실 것을 청원합니다.\n",
      "대구시의 특별감사, 감찰을 요구합니다\n",
      "서울시민의 세금으로 운영되는 tbs방송의 김어준씨 퇴출 청원합니다\n",
      "국회의원 연봉삭감 및 각종 특혜 폐지 청원\n",
      "코로나19로 인한 어린이집 휴원에 따른 보육료반환하여 양육수당으로 되돌려 달라는 청원을 반…\n",
      "유은혜를 교육부에서 퇴출시켜주십시오.\n",
      "문재인대통령 방송화면 모자이크 처리 부탁드립니다.\n",
      "재난기본소득 100만원 지급으로 코로나19 위기를 극복합시다\n",
      "코로나19 사태 국가에서 마스크를 조달청 나라장터 가격(1,000원 이하)수준으로 구매해서…\n",
      "신천지에 코로나19 긴급생활비 지원 반대합니다.\n",
      "코로나-19로 인해 어린이집을 쉬는 아이들에게 양육수당과 보육료를 동시에 지원을 해주세요!\n",
      "사이비 종교 신천지 교단 강제 폐단 및 법적 처벌을 청원합니다.\n",
      "마스크 공급체계 개선\n",
      "문재인 대통령 탄핵 촉구를 반대합니다.\n",
      "코로나19 바이러스에 대한 대책으로서 전국 대학교 한학기 휴교령을 요구합니다.\n",
      "코로나로 인한 휴원시 유치원비감면\n",
      "방송인 김어준을 공중파 방송에서 퇴출하라\n",
      "중국의 조직적 여론 조작 및 국권침탈행위를 엄중하게 수사하십시오.\n",
      "김병욱 의원, 금융위에 '한시적 공매도 금지' 요구에 동참합시다\n",
      "대통령에게 사기 친 금융위원장 - 공매도 사기\n",
      "박원순 서울시장 탄핵을 청원합니다.\n",
      "시진핑 방한을 반대합니다\n",
      "교육부장관 및 시도교육감은 교직 경력을 필수로 반영하게 해주십시오.\n",
      "돌봄과 악성민원으로부터 학교를 지켜주세요\n",
      "신천지교인생활비지원이 아닌 대구시민을 봐주십시오\n",
      "길게 말 안합니다. 문재인 코로나폐렴 사태 책임 지고 하야 하십시오\n",
      "뇌전증환자 사회적 낙인으로 인하여 더 이상 차별과 편견을 받지 않도록 \"뇌전증지원…\n",
      "개학 추가 연기 바랍니다.\n",
      "천안도와주세요\n",
      "문재인 대통령 탄핵을 촉구합니다\n",
      "모든 사업자의 2020년 상반기 부가가치세를 감면하여 주십시요!!!!\n",
      "전국  신천지 교회 전체  폐쇄해 주세요\n",
      "경북 경산을 특별재난관리 지역으로 지정해 주십시오\n",
      "차이나게이트 (중국게이트) 여론조작 에 대해서 엄중한 수사를 요구합니다\n",
      "중국인 유학생 청와대 견학시켜주세요\n",
      "무능한 감성팔이 대구시장 탄핵을 촉구합니다.\n",
      "신종 코로나 사태로 힘들어져 가는 경제를 살리는데 조금이나마 도움이 되도록 신한울 원전 3…\n",
      "항암 도와주세요\n",
      "이탈리아 교민의 대거 입국을 막아주세요.\n",
      "마스크라도 맘편히 구매할수있게해주세요\n",
      "코로나로인한 소상공인 부가세 일시적 면제\n",
      "간호사의 오늘을 지켜주세요\n",
      "사립유치원 교사들에 대한 대책 마련요구\n",
      "코로나19로 휴교한 학교의 방중비근무자 급여 지급\n",
      "추미애법무부 장관을 신임합니다\n",
      "7광구에 대한 조사 및 개발, 영유권 주장에 대한 정부의 조속한 조치를 촉구합니다.\n",
      "윤석열 검찰 총장을 당장 파면해 주십시요.\n",
      "신천지를 강제 수사하지 않는 윤석열 검찰총장을 즉각 해임시켜 주세요.\n",
      "단역배우두분 자살사건 재조사\n",
      "파트타임 운동 강사들도 구제받을 수 있는 제도가 있었으면 합니다.\n",
      "코로나19 관련하여 신천지 전수 조사  해주세요.\n",
      "불법사이트 단속과 저작권법을 강화해주세요!!! (8)\n",
      "미용실ㆍ네일ㆍ피부관리실살려주세요\n",
      "대구 개학 연기 기간 중 교직원 출근 금지를 강제해주세요.\n",
      "문재인 대통령에게 힘 내주실 것을 촉구합니다.\n",
      "코로나19  역외유입 방지위한  정책강화 요청\n",
      "조선족 게이트라는 음모론을 유포하는 이들을 엄벌해주십시오\n",
      "'신천지 교회'를 '신천지 집단'으로 명칭 교정을 청원…\n",
      "대구 경북에 대한 특별재난지역 선포를 금지해주실 것을 청원합니다.\n",
      "학원 휴원 강제압력은 국민의 생계를 위협하는 일입니다.\n",
      "코로나 19, 대구에 기부된 기부금 사용 내역 진상 규명바랍니다.\n",
      "초,중,고 개학을 3월 마지막주까지 미뤄주세요\n",
      "의료기관에 KF94이상의 마스크를 공급해주세요\n",
      "코로나19, 기부금의 사용처 공개 원합니다.\n",
      "전 국민을 위험에 빠트린 문재인 탄핵\n",
      "(코로나) 초, 중, 고 개학을 미뤄주시는걸 간곡히 요청합니다.\n",
      "코로나19 방역장비(마스크 등)의 개성공단 생산 제안\n",
      "문재인 대통령 탄핵 촉구를 반대합니다.\n",
      "아이들 개학 연기해주세요\n",
      "무능한 정권, 무능한 문재인 대통령은 하야하라!!\n",
      "문재인 대통령의 하야를 촉구합니다\n",
      "공매도 폐지 / 시장조성자 폐지 / 은성수 금융위원장 문책\n",
      "노인주야간보호센터도 국가적 위기 상황에서는  정부지원 하에 휴관을 할 수 있도록 청원합니다…\n",
      "이** 신천지교주 국가유공자상장 박탈해주세요\n",
      "현재 방과후 강사 급여 '0'원입니다.\n",
      "코로나 의료진들 방호복 지급해주십시요.\n",
      "주민자치센터외 공공기관에서 수업하는 있는 모든 프로그램 강사들의 생계가 위협 받고 있습니다…\n",
      "신천지 교주 이**를 즉각 구속하고, 신천지 총회 본부와 12지파 사무실을 압수수색해주세요\n",
      "보건용 마스크 정부 수매 및 저가 공급을 요청합니다.\n",
      "코로나 19! 추경 민생종합대책에서 소외된, 보건복지부 발달재활바우처, 교육청바우처, 지역…\n",
      "백혈병으로 고통받고있는 아이를 위해 car-t임상의 빠른 승인을 부탁드립니다.\n",
      "코로나-19관련 휴원명령 등으로 인해  폐반, 폐원 등의 사태가 더 이상 발생하지 않도록 …\n",
      "은행및 공공기관 단축근무  시행해주십시요\n",
      "신천지 교단의 강제 해산 반대를 청원합니다.\n",
      "문재인 대통령 탄핵을 반대하는 국민청원을 반대합니다\n",
      "3억 대주주 요건, 주식시장 침체 우려\n",
      "박근혜 대통령 석방 청원\n",
      "대통령님 억울합니다.\n",
      "“신천지 교회”의 명칭을 “신천지 집단”으로 명해 주십시오\n",
      "전국 교습학원 경영의 어려움을 호소합니다.\n",
      "안전하고 체계적인 지원 하의 긴급돌봄이 이뤄질 수 있도록 해주세요.\n",
      "신천지 수사 지시를 거부하는 윤석열 검찰총장 감찰을 청원합니다.\n",
      "코로나 이탈리아 전세기 지원을 반대합니다.\n",
      "코로나19 사태로 하늘을 날지 못하는 비행기의 주기비용(=주차비)를 한시적으로 면제해 주세…\n",
      "국회의원 월급을 3개월간 30프로라도 삭감,기부하세요\n",
      "조선족 게이트(차이나 게이트)에 대한 철저한 조사가 필요합니다!\n",
      "마스크국민께공평신속배급을 동사무소에서세대별로공급하기\n",
      "None\n",
      "None\n",
      "None\n",
      "None\n",
      "None\n",
      "None\n",
      "None\n",
      "None\n",
      "None\n",
      "None\n",
      "None\n",
      "None\n",
      "None\n",
      "None\n",
      "None\n"
     ]
    }
   ],
   "source": [
    "from openpyxl import load_workbook\n",
    "\n",
    "read_vb = load_workbook(\"./bluehouse.xlsx\")\n",
    "read_ws = read_vb.active\n",
    "\n",
    "list_excel = []\n",
    "\n",
    "for i in range (1, 151):\n",
    "    print(read_ws.cell(i,1).value)\n",
    "    list_excel.append(read_ws.cell(i,1).value)"
   ]
  },
  {
   "cell_type": "code",
   "execution_count": 2,
   "metadata": {},
   "outputs": [
    {
     "data": {
      "text/plain": [
       "['문재인 대통령님을 응원 합니다!',\n",
       " '신천지 예수교 증거장막성전(이하, 신천지)의 강제 해체(해산)을 청원합니다.',\n",
       " '텔레그램 n번방 용의자 신상공개 및 포토라인 세워주세요',\n",
       " '텔레그램 n번방 가입자 전원의 신상공개를 원합니다',\n",
       " '코로나19의 확산방지를 위해 애써주시는 문재인대통령님과 질병관리본부 및 정부부처 관계자분들…',\n",
       " '한전 사업에 중국 기업의 참여를 허락하는 것은 말도 안됩니다.',\n",
       " '코로나19로 위기에 처한  국민들을위해 국회의원들의 월급반납 또는 삭감을  건의합니다',\n",
       " '문재인 대통령님의 탄핵을 원하지 않습니다.',\n",
       " '[국민청원(안)] 신천지 교주 이**의 즉각적인 구속수사를 촉구합니다.',\n",
       " '저희 25개월딸이 초등학생 5학년에게 성폭행을 당했습니다',\n",
       " '중국인 영주권자의 지방선거 투표권 박탈해야합니다.',\n",
       " '성전환 수술, 즉 외부성기 수술 없이도 남녀 성별을 변경하는 성별정정을 막아 주십시오.',\n",
       " '문재인대통령의 탄핵을 반대합니다!!~',\n",
       " '코로나 19 대책 및 문재인 대통령 하야추천',\n",
       " '대학교 개강 연기에 따른 등록금 인하 건의(02.29)',\n",
       " '윤석렬 총장에 대한 법무부 감찰을 요청합니다',\n",
       " '개학을 연기하고 휴업단계를 3단계로 올려주세요',\n",
       " '역차별, 현장 갈등 유발하는 교육공무직에 대해 다음과 같이 요구합니다.',\n",
       " '권영진 대구시장의 파면을 요구합니다',\n",
       " '대구 시민입니다 지금 너무나 분하고 슬프고 아픔니다',\n",
       " '\"신천지 압수수색은 신중해야\"외치는 검찰총장 윤석열의 파면을 요구합니다.',\n",
       " '마스크판매에 대한 제안',\n",
       " '의사협회 집행부들의 아집이 선을 넘었습니다.',\n",
       " '저는 아버지에게 15년동안 성폭행을 당했습니다. 도와주세요.',\n",
       " '코로나 **번째 무모한행동 강력처벌 원합니다',\n",
       " '학원에도 정부지원 휴업령이 필요합니다!',\n",
       " '가해자 n번방박사,n번방회원 모두 처벌해주세요',\n",
       " '수의사의 동물학대 사건을 검찰에서 법적용을 잘못해 무죄가 되었습니다',\n",
       " '문재인 대통령 탄핵 청원에 대한 반대 청원 및 게시글 삭제 청원',\n",
       " 'N번방 대화 참여자들도 명단을 공개하고 처벌해주십시오',\n",
       " '텔레그램 아동.청소년 성노예 사건 철저한 수사 및 처벌 촉구합니다!!',\n",
       " '초등학생을 성폭행하고 찍은 불법촬영물로 협박해 금품을 갈취하여 인생을 망가뜨린 고등학생의 …',\n",
       " '마스크를 주민센터 세대명부대로 공급해 주세요',\n",
       " '조희연 교육감의 사퇴를 요구합니다',\n",
       " '시민들을 불안하게 하는 권영진 대구시장을 탄핵 청원합니다.',\n",
       " '전**목사님의 구속 취소를 청원 합니다',\n",
       " '유튜버 김** 10분동안 폭행, 소주병으로 머리 내리친 가해자 처벌 강화',\n",
       " '신천지 교주 이** 국가유공자 취소를 신청합니다!',\n",
       " '대구광역시를 특별재난지역으로 선포해 주실 것을 청원합니다.',\n",
       " '대구시의 특별감사, 감찰을 요구합니다',\n",
       " '서울시민의 세금으로 운영되는 tbs방송의 김어준씨 퇴출 청원합니다',\n",
       " '국회의원 연봉삭감 및 각종 특혜 폐지 청원',\n",
       " '코로나19로 인한 어린이집 휴원에 따른 보육료반환하여 양육수당으로 되돌려 달라는 청원을 반…',\n",
       " '유은혜를 교육부에서 퇴출시켜주십시오.',\n",
       " '문재인대통령 방송화면 모자이크 처리 부탁드립니다.',\n",
       " '재난기본소득 100만원 지급으로 코로나19 위기를 극복합시다',\n",
       " '코로나19 사태 국가에서 마스크를 조달청 나라장터 가격(1,000원 이하)수준으로 구매해서…',\n",
       " '신천지에 코로나19 긴급생활비 지원 반대합니다.',\n",
       " '코로나-19로 인해 어린이집을 쉬는 아이들에게 양육수당과 보육료를 동시에 지원을 해주세요!',\n",
       " '사이비 종교 신천지 교단 강제 폐단 및 법적 처벌을 청원합니다.',\n",
       " '마스크 공급체계 개선',\n",
       " '문재인 대통령 탄핵 촉구를 반대합니다.',\n",
       " '코로나19 바이러스에 대한 대책으로서 전국 대학교 한학기 휴교령을 요구합니다.',\n",
       " '코로나로 인한 휴원시 유치원비감면',\n",
       " '방송인 김어준을 공중파 방송에서 퇴출하라',\n",
       " '중국의 조직적 여론 조작 및 국권침탈행위를 엄중하게 수사하십시오.',\n",
       " \"김병욱 의원, 금융위에 '한시적 공매도 금지' 요구에 동참합시다\",\n",
       " '대통령에게 사기 친 금융위원장 - 공매도 사기',\n",
       " '박원순 서울시장 탄핵을 청원합니다.',\n",
       " '시진핑 방한을 반대합니다',\n",
       " '교육부장관 및 시도교육감은 교직 경력을 필수로 반영하게 해주십시오.',\n",
       " '돌봄과 악성민원으로부터 학교를 지켜주세요',\n",
       " '신천지교인생활비지원이 아닌 대구시민을 봐주십시오',\n",
       " '길게 말 안합니다. 문재인 코로나폐렴 사태 책임 지고 하야 하십시오',\n",
       " '뇌전증환자 사회적 낙인으로 인하여 더 이상 차별과 편견을 받지 않도록 \"뇌전증지원…',\n",
       " '개학 추가 연기 바랍니다.',\n",
       " '천안도와주세요',\n",
       " '문재인 대통령 탄핵을 촉구합니다',\n",
       " '모든 사업자의 2020년 상반기 부가가치세를 감면하여 주십시요!!!!',\n",
       " '전국  신천지 교회 전체  폐쇄해 주세요',\n",
       " '경북 경산을 특별재난관리 지역으로 지정해 주십시오',\n",
       " '차이나게이트 (중국게이트) 여론조작 에 대해서 엄중한 수사를 요구합니다',\n",
       " '중국인 유학생 청와대 견학시켜주세요',\n",
       " '무능한 감성팔이 대구시장 탄핵을 촉구합니다.',\n",
       " '신종 코로나 사태로 힘들어져 가는 경제를 살리는데 조금이나마 도움이 되도록 신한울 원전 3…',\n",
       " '항암 도와주세요',\n",
       " '이탈리아 교민의 대거 입국을 막아주세요.',\n",
       " '마스크라도 맘편히 구매할수있게해주세요',\n",
       " '코로나로인한 소상공인 부가세 일시적 면제',\n",
       " '간호사의 오늘을 지켜주세요',\n",
       " '사립유치원 교사들에 대한 대책 마련요구',\n",
       " '코로나19로 휴교한 학교의 방중비근무자 급여 지급',\n",
       " '추미애법무부 장관을 신임합니다',\n",
       " '7광구에 대한 조사 및 개발, 영유권 주장에 대한 정부의 조속한 조치를 촉구합니다.',\n",
       " '윤석열 검찰 총장을 당장 파면해 주십시요.',\n",
       " '신천지를 강제 수사하지 않는 윤석열 검찰총장을 즉각 해임시켜 주세요.',\n",
       " '단역배우두분 자살사건 재조사',\n",
       " '파트타임 운동 강사들도 구제받을 수 있는 제도가 있었으면 합니다.',\n",
       " '코로나19 관련하여 신천지 전수 조사  해주세요.',\n",
       " '불법사이트 단속과 저작권법을 강화해주세요!!! (8)',\n",
       " '미용실ㆍ네일ㆍ피부관리실살려주세요',\n",
       " '대구 개학 연기 기간 중 교직원 출근 금지를 강제해주세요.',\n",
       " '문재인 대통령에게 힘 내주실 것을 촉구합니다.',\n",
       " '코로나19  역외유입 방지위한  정책강화 요청',\n",
       " '조선족 게이트라는 음모론을 유포하는 이들을 엄벌해주십시오',\n",
       " \"'신천지 교회'를 '신천지 집단'으로 명칭 교정을 청원…\",\n",
       " '대구 경북에 대한 특별재난지역 선포를 금지해주실 것을 청원합니다.',\n",
       " '학원 휴원 강제압력은 국민의 생계를 위협하는 일입니다.',\n",
       " '코로나 19, 대구에 기부된 기부금 사용 내역 진상 규명바랍니다.',\n",
       " '초,중,고 개학을 3월 마지막주까지 미뤄주세요',\n",
       " '의료기관에 KF94이상의 마스크를 공급해주세요',\n",
       " '코로나19, 기부금의 사용처 공개 원합니다.',\n",
       " '전 국민을 위험에 빠트린 문재인 탄핵',\n",
       " '(코로나) 초, 중, 고 개학을 미뤄주시는걸 간곡히 요청합니다.',\n",
       " '코로나19 방역장비(마스크 등)의 개성공단 생산 제안',\n",
       " '문재인 대통령 탄핵 촉구를 반대합니다.',\n",
       " '아이들 개학 연기해주세요',\n",
       " '무능한 정권, 무능한 문재인 대통령은 하야하라!!',\n",
       " '문재인 대통령의 하야를 촉구합니다',\n",
       " '공매도 폐지 / 시장조성자 폐지 / 은성수 금융위원장 문책',\n",
       " '노인주야간보호센터도 국가적 위기 상황에서는  정부지원 하에 휴관을 할 수 있도록 청원합니다…',\n",
       " '이** 신천지교주 국가유공자상장 박탈해주세요',\n",
       " \"현재 방과후 강사 급여 '0'원입니다.\",\n",
       " '코로나 의료진들 방호복 지급해주십시요.',\n",
       " '주민자치센터외 공공기관에서 수업하는 있는 모든 프로그램 강사들의 생계가 위협 받고 있습니다…',\n",
       " '신천지 교주 이**를 즉각 구속하고, 신천지 총회 본부와 12지파 사무실을 압수수색해주세요',\n",
       " '보건용 마스크 정부 수매 및 저가 공급을 요청합니다.',\n",
       " '코로나 19! 추경 민생종합대책에서 소외된, 보건복지부 발달재활바우처, 교육청바우처, 지역…',\n",
       " '백혈병으로 고통받고있는 아이를 위해 car-t임상의 빠른 승인을 부탁드립니다.',\n",
       " '코로나-19관련 휴원명령 등으로 인해  폐반, 폐원 등의 사태가 더 이상 발생하지 않도록 …',\n",
       " '은행및 공공기관 단축근무  시행해주십시요',\n",
       " '신천지 교단의 강제 해산 반대를 청원합니다.',\n",
       " '문재인 대통령 탄핵을 반대하는 국민청원을 반대합니다',\n",
       " '3억 대주주 요건, 주식시장 침체 우려',\n",
       " '박근혜 대통령 석방 청원',\n",
       " '대통령님 억울합니다.',\n",
       " '“신천지 교회”의 명칭을 “신천지 집단”으로 명해 주십시오',\n",
       " '전국 교습학원 경영의 어려움을 호소합니다.',\n",
       " '안전하고 체계적인 지원 하의 긴급돌봄이 이뤄질 수 있도록 해주세요.',\n",
       " '신천지 수사 지시를 거부하는 윤석열 검찰총장 감찰을 청원합니다.',\n",
       " '코로나 이탈리아 전세기 지원을 반대합니다.',\n",
       " '코로나19 사태로 하늘을 날지 못하는 비행기의 주기비용(=주차비)를 한시적으로 면제해 주세…',\n",
       " '국회의원 월급을 3개월간 30프로라도 삭감,기부하세요',\n",
       " '조선족 게이트(차이나 게이트)에 대한 철저한 조사가 필요합니다!',\n",
       " '마스크국민께공평신속배급을 동사무소에서세대별로공급하기',\n",
       " None,\n",
       " None,\n",
       " None,\n",
       " None,\n",
       " None,\n",
       " None,\n",
       " None,\n",
       " None,\n",
       " None,\n",
       " None,\n",
       " None,\n",
       " None,\n",
       " None,\n",
       " None,\n",
       " None]"
      ]
     },
     "execution_count": 2,
     "metadata": {},
     "output_type": "execute_result"
    }
   ],
   "source": [
    "list_excel"
   ]
  },
  {
   "cell_type": "code",
   "execution_count": 3,
   "metadata": {},
   "outputs": [],
   "source": [
    "from konlpy.tag import Kkma\n",
    "import collections"
   ]
  },
  {
   "cell_type": "code",
   "execution_count": 4,
   "metadata": {},
   "outputs": [],
   "source": [
    "kkma = Kkma()"
   ]
  },
  {
   "cell_type": "code",
   "execution_count": 5,
   "metadata": {},
   "outputs": [],
   "source": [
    "list_temp = []"
   ]
  },
  {
   "cell_type": "code",
   "execution_count": 6,
   "metadata": {},
   "outputs": [],
   "source": [
    "for row in list_excel :\n",
    "    #print(kkma.nouns(row))\n",
    "    list_temp = list_temp + kkma.nouns(row)"
   ]
  },
  {
   "cell_type": "code",
   "execution_count": 7,
   "metadata": {},
   "outputs": [
    {
     "name": "stdout",
     "output_type": "stream",
     "text": [
      "['문', '문재인', '재인', '대통령', '응원', '신천지', '예수교', '증거', '증거장막성전', '장막', '성전', '이하', '의', '강제', '해체', '해산', '을', '청원', '텔', '텔레그램', '레', '그램', '방', '용의자', '신상', '신상공개', '공개', '포토', '포토라인', '라인', '텔', '텔레그램', '레', '그램', '방', '가입자', '전원', '신상', '신상공개', '공개', '코로나', '코로나19', '19', '확산', '확산방지', '방지', '주시', '문', '문재인대통령', '재인', '대통령', '질병', '질병관리본부', '관리', '본부', '정부', '정부부처', '부처', '관계자', '한전', '사업', '중국', '기업', '참여', '허락', '말', '코로나', '코로나19', '19', '위기', '국민', '국회의원', '월급', '월급반납', '반납', '삭감', '건의', '문', '문재인', '재인', '대통령', '탄핵', '국민', '국민청원', '청원', '안', '신천지', '교주', '이', '의', '즉각적', '구속', '구속수사', '수사', '촉구', '저희', '25', '25개월딸', '개월', '딸', '초등학생', '5', '5학년', '학년', '성폭행', '중국인', '영', '영주권자', '주권자', '지방', '지방선거', '선거', '투표권', '박탈', '성전환', '수술', '외부', '외부성기', '성기', '남녀', '성별', '변경', '성별정정', '정정', '문', '문재인대통령', '재인', '대통령', '탄핵', '반대', '코로나', '19', '대책', '문', '문재인', '재인', '대통령', '하야', '하야추천', '추천', '대학교', '개강', '연기', '등록금', '인하', '건의', '02.29', '윤', '렬', '총장', '법무부', '감찰', '요청', '개학', '연기', '휴업', '휴업단계', '단계', '3', '3단계', '역', '역차별', '차별', '현장', '갈등', '유발', '교육', '교육공무직', '공무', '직', '다음', '요구', '권', '권영진', '영진', '대구', '대구시장', '시장', '파면', '요구', '대구', '시민', '신천지', '압수', '압수수색', '수색', '신중', '검찰', '검찰총장', '총장', '윤', '열의', '파면', '요구', '마스크', '마스크판매', '판매', '제안', '의사', '의사협회', '협회', '집행부', '아집', '선', '저', '아버지', '15', '15년동안', '년', '동안', '성폭행', '코로나', '번째', '무모', '행동', '강력', '강력처벌', '처벌', '학원', '정부', '정부지원', '지원', '휴업령', '필요', '가해자', '방', '방박사', '박사', '방회원', '회원', '모두', '처벌', '수의', '수의사의', '사의', '동물학', '동물학대', '대', '사건', '검찰', '법적', '무죄', '문', '문재인', '재인', '대통령', '탄핵', '청원', '반대', '게시', '게시글', '글', '삭제', '방', '대화', '참여자', '명단', '공개', '처벌', '텔', '텔레그램', '레', '그램', '아동', '청소년', '성노예', '사건', '철저', '수사', '처벌', '촉구', '초등학생', '성폭행', '불법', '불법촬영물', '촬영', '물', '협박', '금품', '갈취', '인생', '고등학생', '마스크', '주민', '주민센터', '센터', '세대', '세대명부', '명부', '공급', '조희', '조희연', '연', '교육감', '사퇴', '요구', '시민', '불안', '권', '권영진', '영진', '대구', '대구시장', '시장', '탄핵', '청원', '전', '목사', '구속', '취소', '청원', '유', '유튜버', '튜버', '김', '10', '10분동안', '분', '동안', '폭행', '소', '소주병', '주병', '머리', '가해자', '처벌', '강화', '신천지', '교주', '이', '국가', '국가유공자', '유공자', '취소', '신청', '대구', '대구광역시', '광역', '시', '특별', '특별재난지역', '재난', '지역', '선포', '청원', '대구시', '특별', '특별감사', '감사', '감찰', '요구', '서울', '서울시민', '시민', '세금', '운영', '방송', '김', '씨', '퇴출', '청원', '국회의원', '연봉', '연봉삭감', '삭감', '각종', '특혜', '폐지', '청원', '코로나', '코로나19', '19', '어린이', '어린이집', '집', '휴원', '보육료', '보육료반환', '반환', '양육', '양육수당', '수당', '청원', '반', '유', '유은혜', '은혜', '교육부', '퇴출', '문', '문재인대통령', '재인', '대통령', '방송', '모자이크', '처리', '부탁', '재난', '재난기본소득', '기본', '소득', '100', '100만원', '만', '원', '지급', '코로나', '코로나19', '19', '위', '극', '극복합시다', '복합', '시다', '코로나', '코로나19', '19', '사태', '국가', '마스크', '조달청', '나라', '나라장터', '장터', '가격', '1,000', '1,000원', '원', '이하', '수준', '구매', '신천지', '코로나', '코로나19', '19', '긴급', '긴급생활비', '생활비', '지원', '반대', '코로나', '코로나-19', '-19', '어린이', '어린이집', '집', '아이', '양육', '양육수당', '수당', '보육료', '동시', '지원', '사이비', '종교', '신천지', '교단', '강제', '폐단', '법적', '처벌', '청원', '마스크', '공급', '공급체계', '체계', '개선', '문', '문재인', '재인', '대통령', '탄핵', '촉구', '반대', '코로나', '코로나19', '19', '바이러스', '대책', '전국', '대학교', '학기', '휴교령', '요구', '코로나', '휴', '휴원시', '원시', '유치원', '유치원비감면', '비', '감면', '방송인', '김', '을', '공중파', '방송', '퇴출', '중국', '조직적', '여론', '조작', '국권', '국권침탈행위', '침탈', '행위', '수사', '김', '김병', '병', '의원', '금융', '금융위', '위', '공매도', '금지', '요구', '동참', '대통령', '사기', '금융', '금융위원장', '위원장', '공매도', '박원', '박원순', '순', '서울', '서울시장', '시장', '탄핵', '청원', '시진', '방한', '반대', '교육부', '교육부장관', '장관', '시도', '시도교육감', '교육감', '교직', '경력', '필수', '반영', '악성', '악성민원', '민원', '학교', '신천지', '신천지교인생활비지원', '교인', '생활비', '지원', '대구', '대구시민', '시민', '말', '안', '문재', '코로나', '코로나폐렴', '폐렴', '사태', '책임', '뇌전', '뇌전증환자', '증', '환자', '사회적', '낙인', '이상', '차별', '편견', '뇌전증지원', '지원', '개학', '추가', '연기', '천안', '문', '문재인', '재인', '대통령', '탄핵', '촉구', '모든', '사업자', '2020', '2020년', '년', '상반기', '부가', '부가가치세', '가치세', '감면', '전국', '신천지', '교회', '전체', '폐쇄', '경북', '경산', '특별', '특별재난관리', '재난', '관리', '지역', '지정', '차이나', '차이나게이트', '게이트', '중국', '중국게이트', '여론', '여론조작', '조작', '수사', '요구', '중국인', '유학생', '청와대', '견학', '무능', '감성', '감성팔', '팔', '대구', '대구시장', '시장', '탄핵', '촉구', '신종', '코로나', '사태', '경제', '조금', '도움', '신한', '원전', '3', '항암', '이탈리아', '교민', '입국', '마스크', '맘', '수', '구매', '코로나', '소', '소상공인', '상공인', '부가세', '일시적', '면제', '간호사', '오늘', '사립', '사립유치원', '유치원', '교사', '대책', '마련', '마련요구', '요구', '코로나', '코로나19', '19', '휴교', '학교의', '방중', '방중비근무자', '비', '근무자', '급여', '지급', '추미애', '추미애법무부', '법무부', '장관', '신임', '7', '7광구', '광구', '조사', '개발', '영유권', '주장', '정부', '조치', '촉구', '윤', '검찰', '총장', '당장', '파면', '신천지', '강제', '수사', '윤', '검찰', '검찰총장', '총장', '해임', '단역', '단역배우', '배우', '분', '자살', '자살사건', '사건', '재조사', '파트', '파트타임', '타임', '운동', '강사', '구제', '수', '제도', '코로나', '코로나19', '19', '관련', '신천지', '전수', '조사', '불법', '불법사이트', '사이트', '단속', '저작권법', '강화', '주세', '8', '일', '미용실', '미용실ㆍ', '일ㆍ피부관리실', 'ㆍ', '피부', '관리실', '대구', '개학', '연기', '기간', '중', '교', '교직원', '직원', '출근', '금지', '강제', '문', '문재인', '재인', '대통령', '힘', '촉구', '코로나', '코로나19', '19', '역외', '역외유입', '유입', '방지', '방지위', '위', '정책', '정책강화', '강화', '요청', '조선족', '게이트', '음모', '유포', '이', '엄벌', '신천지', '교회', '집단', '명칭', '교정', '청원', '대구', '경북', '특별', '특별재난지역', '재난', '지역', '선포', '금지', '청원', '학원', '휴', '휴원', '원', '강제', '강제압력', '압력', '국민', '생계', '위협', '일', '코로나', '19', '대구', '기부', '기부금', '사용', '내역', '진상', '규명', '초', '중', '고', '개학', '3', '3월', '월', '마지막', '마지막주', '주', '의료', '의료기관', '기관', '94', '94이상', '이상', '마스크', '공급', '코로나', '코로나19', '19', '기부금', '사용처', '공개', '전', '국민', '위험', '문', '문재인', '재인', '탄핵', '코로나', '초', '중', '고', '개학', '요청', '코로나', '코로나19', '19', '방역', '방역장비', '장비', '마스크', '등', '의', '개성', '개성공단', '공단', '생산', '제안', '문', '문재인', '재인', '대통령', '탄핵', '촉구', '반대', '아이', '개', '개학', '학', '연기', '무능', '정권', '문', '문재인', '재인', '대통령', '하야', '하야하라', '하라', '문', '문재인', '재인', '대통령', '하야', '촉구', '공매도', '폐지', '시장', '시장조성', '조성', '은', '은성수', '성수', '금융', '금융위원장', '위원장', '문책', '노인', '노인주야간보호센터', '주야간', '보호', '센터', '국가적', '위기', '상황', '정부', '정부지원', '지원', '하', '휴관', '수', '청원', '이', '신천지', '신천지교주', '교주', '국가', '국가유공자상장', '유공자', '상장', '박탈', '현재', '방과', '방과후', '후', '강사', '급여', '0', '원', '코로나', '의료진', '방호복', '지급', '주민', '주민자치센터외', '자치', '센터', '외', '공공', '공공기관', '기관', '수업', '모든', '프로그램', '강사', '생계', '위협', '신천지', '교주', '이', '구속', '총회', '본부', '12', '12지파', '지파', '사무실', '압수', '압수수색', '수색', '보건', '마스크', '정부', '수매', '저', '공급', '요청', '코로나', '19', '추경', '민생', '민생종합대책', '종합', '대책', '소외', '보건', '보건복지부', '복지', '부', '발달', '발달재활바우처', '재활', '바우처', '교육청', '교육청바우처', '지역', '백혈병', '고통', '아이', '임상', '승인', '부탁', '코로나', '코로나-19관련', '-19', '관련', '휴', '휴원명령', '원', '명령', '등', '폐', '폐반', '반', '폐원', '사태', '이상', '발생', '은행', '공공', '공공기관', '기관', '단축', '단축근무', '근무', '시행', '신천지', '교단', '강제', '해산', '반대', '청원', '문', '문재인', '재인', '대통령', '탄핵', '반대', '국민', '국민청원', '청원', '3', '3억', '억', '대', '대주주', '주주', '요건', '주식', '주식시장', '시장', '침체', '우려', '박근', '박근혜', '혜', '대통령', '석방', '청원', '대통령', '신천지', '교회', '의', '명칭', '집단', '전국', '교습', '교습학원', '학원', '경영', '어려움', '호소', '안전', '체계적', '지원', '하의', '긴급', '긴급돌봄', '돌', '봄', '수', '신천지', '수사', '지시', '거부', '윤', '검찰', '검찰총장', '총장', '감찰', '청원', '코로나', '이탈리아', '전세기', '지원', '반대', '코로나', '코로나19', '19', '사태', '하늘', '비행기', '주기', '주기비용', '비용', '주차', '주차비', '비', '한시적', '면제', '주세', '국회의원', '월급', '3', '3개월간', '개월', '간', '30', '30프로라도', '프로', '라도', '삭감', '기부', '조선족', '게이트', '차이나', '철저', '조사', '필요', '국민', '공평', '마스크', '공평신속', '신속', '배급', '세대', '동사무소', '공급']\n"
     ]
    }
   ],
   "source": [
    "print(list_temp)"
   ]
  },
  {
   "cell_type": "code",
   "execution_count": 16,
   "metadata": {},
   "outputs": [],
   "source": [
    "# 한 글자 단어는 count 할 때 제외하기 위함\n",
    "result_list = []\n",
    "for i in list_temp:\n",
    "    if len(i)>1:\n",
    "        result_list.append(i)"
   ]
  },
  {
   "cell_type": "code",
   "execution_count": 22,
   "metadata": {},
   "outputs": [
    {
     "name": "stdout",
     "output_type": "stream",
     "text": [
      "[('코로나', 26), ('청원', 18), ('대통령', 17), ('신천지', 16), ('19', 16), ('재인', 15), ('코로나19', 13), ('문재인', 12), ('탄핵', 11), ('촉구', 9), ('반대', 9), ('요구', 9), ('대구', 9), ('마스크', 9), ('지원', 8)]\n"
     ]
    }
   ],
   "source": [
    "list_data = collections.Counter(result_list).most_common(15)\n",
    "print(list_data)"
   ]
  },
  {
   "cell_type": "markdown",
   "metadata": {},
   "source": [
    "# 10. 실제 데이터로 시각화"
   ]
  },
  {
   "cell_type": "code",
   "execution_count": 23,
   "metadata": {},
   "outputs": [],
   "source": [
    "list_string = []       # 단어가 들어갈 리스트\n",
    "list_number = []       # 단어의 개수가 들어갈 리스트 "
   ]
  },
  {
   "cell_type": "code",
   "execution_count": 24,
   "metadata": {},
   "outputs": [
    {
     "name": "stdout",
     "output_type": "stream",
     "text": [
      "코로나 26\n",
      "청원 18\n",
      "대통령 17\n",
      "신천지 16\n",
      "19 16\n",
      "재인 15\n",
      "코로나19 13\n",
      "문재인 12\n",
      "탄핵 11\n",
      "촉구 9\n",
      "반대 9\n",
      "요구 9\n",
      "대구 9\n",
      "마스크 9\n",
      "지원 8\n"
     ]
    }
   ],
   "source": [
    "for s, n in list_data:\n",
    "    print (s,n)\n",
    "    list_string.append(s)\n",
    "    list_number.append(n)"
   ]
  },
  {
   "cell_type": "code",
   "execution_count": 26,
   "metadata": {},
   "outputs": [
    {
     "name": "stdout",
     "output_type": "stream",
     "text": [
      "['코로나', '청원', '대통령', '신천지', '19', '재인', '코로나19', '문재인', '탄핵', '촉구', '반대', '요구', '대구', '마스크', '지원']\n"
     ]
    }
   ],
   "source": [
    "print(list_string)"
   ]
  },
  {
   "cell_type": "code",
   "execution_count": 27,
   "metadata": {},
   "outputs": [
    {
     "name": "stdout",
     "output_type": "stream",
     "text": [
      "[26, 18, 17, 16, 16, 15, 13, 12, 11, 9, 9, 9, 9, 9, 8]\n"
     ]
    }
   ],
   "source": [
    "print(list_number)"
   ]
  },
  {
   "cell_type": "code",
   "execution_count": 42,
   "metadata": {},
   "outputs": [],
   "source": [
    "import numpy as np\n",
    "\n",
    "# 그래프를 노트북 안에 그리기 위해 설정\n",
    "%matplotlib inline\n",
    "\n",
    "# 필요한 패키지와 라이브러리를 가져옴\n",
    "import matplotlib as mpl\n",
    "import matplotlib.pyplot as plt\n",
    "import matplotlib.font_manager as fm\n",
    "\n",
    "# 그래프에서 마이너스 폰트 깨지는 문제에 대한 대처\n",
    "mpl.rcParams['axes.unicode_minus'] = False"
   ]
  },
  {
   "cell_type": "code",
   "execution_count": 51,
   "metadata": {},
   "outputs": [
    {
     "data": {
      "image/png": "[encoded data removed]",
      "text/plain": [
       "<Figure size 432x288 with 1 Axes>"
      ]
     },
     "metadata": {},
     "output_type": "display_data"
    }
   ],
   "source": [
    "label = list_string\n",
    "index = np.arange(len(label))\n",
    "plt.bar(index, list_number)\n",
    "\n",
    "plt.title(\"Title : BlueHouse\")\n",
    "plt.xlabel(\"x-label\")\n",
    "plt.ylabel(\"y-label\")\n",
    "plt.xticks(index, label)\n",
    "plt.xticks(rotation = 60)            # 글씨를 겹치지 않게 보이기 위해 60도 회전\n",
    "\n",
    "plt.show()"
   ]
  },
  {
   "cell_type": "code",
   "execution_count": null,
   "metadata": {},
   "outputs": [],
   "source": []
  }
 ],
 "metadata": {
  "kernelspec": {
   "display_name": "Python 3",
   "language": "python",
   "name": "python3"
  },
  "language_info": {
   "codemirror_mode": {
    "name": "ipython",
    "version": 3
   },
   "file_extension": ".py",
   "mimetype": "text/x-python",
   "name": "python",
   "nbconvert_exporter": "python",
   "pygments_lexer": "ipython3",
   "version": "3.6.5"
  }
 },
 "nbformat": 4,
 "nbformat_minor": 2
}
