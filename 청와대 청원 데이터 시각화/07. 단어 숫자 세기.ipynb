{
 "cells": [
  {
   "cell_type": "markdown",
   "metadata": {},
   "source": [
    "# 7. 단어 숫자 세기"
   ]
  },
  {
   "cell_type": "code",
   "execution_count": 10,
   "metadata": {},
   "outputs": [],
   "source": [
    "import collections"
   ]
  },
  {
   "cell_type": "code",
   "execution_count": 11,
   "metadata": {},
   "outputs": [
    {
     "name": "stdout",
     "output_type": "stream",
     "text": [
      "Counter({'가': 2, '나': 2, '다': 2, '라': 1, '마': 1, '바': 1})\n"
     ]
    }
   ],
   "source": [
    "list_a = [\"가\", \"나\", \"다\", \"라\", \"마\", \"바\", \"가\", \"나\", \"다\"]\n",
    "list_b = [\"가\", \"나\", \"다\", \"라\", \"마\", \"바\", \"가\", \"나\", \"다\", \"바\", \"가\", \"나\", \"다\"]\n",
    "print(collections.Counter(list_a))"
   ]
  },
  {
   "cell_type": "code",
   "execution_count": 12,
   "metadata": {},
   "outputs": [
    {
     "name": "stdout",
     "output_type": "stream",
     "text": [
      "가 : 3 번\n",
      "나 : 3 번\n",
      "다 : 3 번\n",
      "라 : 1 번\n",
      "마 : 1 번\n",
      "바 : 2 번\n"
     ]
    }
   ],
   "source": [
    "for k, v in collections.Counter(list_b).items():\n",
    "    print(k, \":\", v, \"번\")"
   ]
  },
  {
   "cell_type": "code",
   "execution_count": 13,
   "metadata": {},
   "outputs": [
    {
     "data": {
      "text/plain": [
       "Counter({'가': 3, '나': 3, '다': 3, '라': 1, '마': 1, '바': 2})"
      ]
     },
     "execution_count": 13,
     "metadata": {},
     "output_type": "execute_result"
    }
   ],
   "source": [
    "collections.Counter(list_b)"
   ]
  },
  {
   "cell_type": "code",
   "execution_count": 14,
   "metadata": {},
   "outputs": [
    {
     "data": {
      "text/plain": [
       "[('가', 3), ('나', 3)]"
      ]
     },
     "execution_count": 14,
     "metadata": {},
     "output_type": "execute_result"
    }
   ],
   "source": [
    "collections.Counter(list_b).most_common(2)           # 빈도가 많은 순으로 2개"
   ]
  }
 ],
 "metadata": {
  "kernelspec": {
   "display_name": "Python 3",
   "language": "python",
   "name": "python3"
  },
  "language_info": {
   "codemirror_mode": {
    "name": "ipython",
    "version": 3
   },
   "file_extension": ".py",
   "mimetype": "text/x-python",
   "name": "python",
   "nbconvert_exporter": "python",
   "pygments_lexer": "ipython3",
   "version": "3.6.5"
  }
 },
 "nbformat": 4,
 "nbformat_minor": 2
}
