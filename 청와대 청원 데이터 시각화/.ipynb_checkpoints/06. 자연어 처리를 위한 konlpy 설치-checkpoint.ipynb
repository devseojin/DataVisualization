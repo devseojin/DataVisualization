{
 "cells": [
  {
   "cell_type": "markdown",
   "metadata": {},
   "source": [
    "# 6. 자연어 처리를 위한 konlpy 설치"
   ]
  },
  {
   "cell_type": "code",
   "execution_count": 10,
   "metadata": {},
   "outputs": [],
   "source": [
    "from konlpy.tag import Kkma"
   ]
  },
  {
   "cell_type": "code",
   "execution_count": 11,
   "metadata": {},
   "outputs": [],
   "source": [
    "kkma = Kkma()"
   ]
  },
  {
   "cell_type": "code",
   "execution_count": 12,
   "metadata": {},
   "outputs": [
    {
     "name": "stdout",
     "output_type": "stream",
     "text": [
      "['네. 안녕하세요.', '후후. 자연어 처리를 위한 konlpy 설치과정이 너무 복잡해서 힘들다.']\n"
     ]
    }
   ],
   "source": [
    "print(kkma.sentences(\"네. 안녕하세요. 후후. 자연어 처리를 위한 konlpy 설치과정이 너무 복잡해서 힘들다.\"))"
   ]
  },
  {
   "cell_type": "code",
   "execution_count": 19,
   "metadata": {},
   "outputs": [
    {
     "name": "stdout",
     "output_type": "stream",
     "text": [
      "['아버지', '가방', '안녕']\n"
     ]
    }
   ],
   "source": [
    "print(kkma.nouns(\"아버지가 가방에 들어가십니다. 안녕하세요 아버지 안녕 아버지는\"))"
   ]
  },
  {
   "cell_type": "code",
   "execution_count": 20,
   "metadata": {},
   "outputs": [
    {
     "name": "stdout",
     "output_type": "stream",
     "text": [
      "['복잡', '한국어', '전세계', '13', '13번째', '번째', '사용', '언어', '텍스트', '유용', '특성', '추출', '동안', '형태소', '분석기', '개발']\n"
     ]
    }
   ],
   "source": [
    "print(kkma.nouns(\"아름답지만 다소 복잡하기도한 한국어는 전세계에서 13번째로 많이 사용되는 언어입니다. 복잡미묘한 한국어 텍스트에서 유용한 특성을 추출하기 위해 그 동안 한국어 형태소 분석기 개발되기도 했습니다.\"))"
   ]
  },
  {
   "cell_type": "code",
   "execution_count": null,
   "metadata": {},
   "outputs": [],
   "source": []
  }
 ],
 "metadata": {
  "kernelspec": {
   "display_name": "Python 3",
   "language": "python",
   "name": "python3"
  },
  "language_info": {
   "codemirror_mode": {
    "name": "ipython",
    "version": 3
   },
   "file_extension": ".py",
   "mimetype": "text/x-python",
   "name": "python",
   "nbconvert_exporter": "python",
   "pygments_lexer": "ipython3",
   "version": "3.6.5"
  }
 },
 "nbformat": 4,
 "nbformat_minor": 2
}
