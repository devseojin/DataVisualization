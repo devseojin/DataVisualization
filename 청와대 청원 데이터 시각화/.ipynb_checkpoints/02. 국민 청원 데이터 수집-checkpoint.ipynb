{
 "cells": [
  {
   "cell_type": "markdown",
   "metadata": {},
   "source": [
    "# 1. 환경설정\n",
    "## - Jupyter Notebook 설치"
   ]
  },
  {
   "cell_type": "code",
   "execution_count": 1,
   "metadata": {},
   "outputs": [],
   "source": [
    "from bs4 import BeautifulSoup        # 크롤링에 필요한 라이브러리"
   ]
  },
  {
   "cell_type": "code",
   "execution_count": 2,
   "metadata": {},
   "outputs": [],
   "source": [
    "from selenium import webdriver       # cmd창에서 pip install selenium"
   ]
  },
  {
   "cell_type": "markdown",
   "metadata": {},
   "source": [
    "* 웹 드라이버 다운\n",
    "- 본인 노트북에 설치된 크롬 버젼 확인(도움말 click) 후, 아래 URL에서 올바른 버젼의 웹 드라이버를 다운 및 압축 푼 후, 동일한 디렉터리에 'chromedriver' 이동\n",
    "Chrome: https://sites.google.com/a/chromium.org/chromedriver/downloads"
   ]
  },
  {
   "cell_type": "code",
   "execution_count": 3,
   "metadata": {},
   "outputs": [],
   "source": [
    "driver = webdriver.Chrome(\"./chromedriver\")"
   ]
  },
  {
   "cell_type": "markdown",
   "metadata": {},
   "source": [
    "# 2. 국민 청원 데이터 수집"
   ]
  },
  {
   "cell_type": "code",
   "execution_count": 4,
   "metadata": {},
   "outputs": [],
   "source": [
    "# 크롤링할 URL 복사 후 get() 안에 붙여넣기\n",
    "driver.get(\"https://www1.president.go.kr/petitions/best?page=1\")"
   ]
  },
  {
   "cell_type": "code",
   "execution_count": 5,
   "metadata": {},
   "outputs": [],
   "source": [
    "soup = BeautifulSoup(driver.page_source, 'html.parser')\n",
    "result_list = []"
   ]
  },
  {
   "cell_type": "code",
   "execution_count": 6,
   "metadata": {},
   "outputs": [],
   "source": [
    "# 이 코드는 get으로 받아온 URL 전체의 html 코드를 출력해줌\n",
    "#print(soup)"
   ]
  },
  {
   "cell_type": "markdown",
   "metadata": {},
   "source": [
    "### 청원목록 text만 추출\n",
    "*  '청원목록'의 코드 보기 검사(ctrl+shift+i) 로 '제목' 부분 코드 확인\n",
    "- 제목 코드인 <li>묶음 click : copy > copy selector click > for문에 붙여넣기\n",
    "- for문으로 청원목록의 추출하기위해 뒤에 '1'부분은 경로에서 삭제\n",
    "- 순번 등의 기타요소는 제외하고 제목만 추출하기 위해 class_=\"bl_subject\" 코드 추가\n",
    "- text[3:] 배열 자르기로 '제목' 출력되는 것을 제거\n",
    "- .strip() 로 줄바꿈 제거\n",
    "- result_list[] 를 새로 만든 후, append로 제목만 추출한 값을 배열에 저장"
   ]
  },
  {
   "cell_type": "code",
   "execution_count": 7,
   "metadata": {},
   "outputs": [
    {
     "name": "stdout",
     "output_type": "stream",
     "text": [
      "문재인 대통령님을 응원 합니다!\n",
      "신천지 예수교 증거장막성전(이하, 신천지)의 강제 해체(해산)을 청원합니다.\n",
      "텔레그램 n번방 용의자 신상공개 및 포토라인 세워주세요\n",
      "텔레그램 n번방 가입자 전원의 신상공개를 원합니다\n",
      "코로나19의 확산방지를 위해 애써주시는 문재인대통령님과 질병관리본부 및 정부부처 관계자분들…\n",
      "한전 사업에 중국 기업의 참여를 허락하는 것은 말도 안됩니다.\n",
      "코로나19로 위기에 처한  국민들을위해 국회의원들의 월급반납 또는 삭감을  건의합니다\n",
      "문재인 대통령님의 탄핵을 원하지 않습니다.\n",
      "[국민청원(안)] 신천지 교주 이**의 즉각적인 구속수사를 촉구합니다.\n",
      "저희 25개월딸이 초등학생 5학년에게 성폭행을 당했습니다\n",
      "중국인 영주권자의 지방선거 투표권 박탈해야합니다.\n",
      "성전환 수술, 즉 외부성기 수술 없이도 남녀 성별을 변경하는 성별정정을 막아 주십시오.\n",
      "문재인대통령의 탄핵을 반대합니다!!~\n",
      "코로나 19 대책 및 문재인 대통령 하야추천\n",
      "대학교 개강 연기에 따른 등록금 인하 건의(02.29)\n"
     ]
    }
   ],
   "source": [
    "for i in soup.select(\"#cont_view > div.cs_area > div > div > div.board.text > div.b_list.category > div.bl_body > ul > li\"):\n",
    "    print(i.find(\"div\", class_=\"bl_subject\").text[3:].strip())\n",
    "    result_list.append(i.find(\"div\", class_=\"bl_subject\").text[3:].strip())"
   ]
  },
  {
   "cell_type": "code",
   "execution_count": 8,
   "metadata": {},
   "outputs": [],
   "source": [
    "# 크롤링이 끝난 후, 크롬 창이 자동으로 닫힘\n",
    "driver.close()"
   ]
  },
  {
   "cell_type": "code",
   "execution_count": null,
   "metadata": {},
   "outputs": [],
   "source": []
  },
  {
   "cell_type": "code",
   "execution_count": null,
   "metadata": {},
   "outputs": [],
   "source": []
  }
 ],
 "metadata": {
  "kernelspec": {
   "display_name": "Python 3",
   "language": "python",
   "name": "python3"
  },
  "language_info": {
   "codemirror_mode": {
    "name": "ipython",
    "version": 3
   },
   "file_extension": ".py",
   "mimetype": "text/x-python",
   "name": "python",
   "nbconvert_exporter": "python",
   "pygments_lexer": "ipython3",
   "version": "3.6.5"
  }
 },
 "nbformat": 4,
 "nbformat_minor": 2
}
