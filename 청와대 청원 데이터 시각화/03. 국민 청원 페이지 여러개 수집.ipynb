{
 "cells": [
  {
   "cell_type": "markdown",
   "metadata": {},
   "source": [
    "# 3. 국민 청원 페이지 여러개 수집"
   ]
  },
  {
   "cell_type": "markdown",
   "metadata": {},
   "source": [
    "## 여러 페이지 URL 규칙 확인\n",
    "\n",
    "* 1페이지 URL : https://www1.president.go.kr/petitions/best?page=1\n",
    "* 2페이지 URL : https://www1.president.go.kr/petitions/best?page=2\n",
    "* 3페이지 URL : https://www1.president.go.kr/petitions/best?page=3"
   ]
  },
  {
   "cell_type": "code",
   "execution_count": 1,
   "metadata": {},
   "outputs": [
    {
     "name": "stdout",
     "output_type": "stream",
     "text": [
      "https://www1.president.go.kr/petitions/best?page=1\n",
      "https://www1.president.go.kr/petitions/best?page=2\n",
      "https://www1.president.go.kr/petitions/best?page=3\n",
      "https://www1.president.go.kr/petitions/best?page=4\n",
      "https://www1.president.go.kr/petitions/best?page=5\n",
      "https://www1.president.go.kr/petitions/best?page=6\n",
      "https://www1.president.go.kr/petitions/best?page=7\n",
      "https://www1.president.go.kr/petitions/best?page=8\n",
      "https://www1.president.go.kr/petitions/best?page=9\n",
      "https://www1.president.go.kr/petitions/best?page=10\n"
     ]
    }
   ],
   "source": [
    "# for문의 i는 데이터 타입의 int 이므로, URL에 합치려면 문자열 타입인 str로 변경\n",
    "\n",
    "for i in range(1,11):\n",
    "    print(\"https://www1.president.go.kr/petitions/best?page=\"+str(i))"
   ]
  },
  {
   "cell_type": "code",
   "execution_count": 2,
   "metadata": {},
   "outputs": [],
   "source": [
    "from bs4 import BeautifulSoup        # 크롤링에 필요한 라이브러리"
   ]
  },
  {
   "cell_type": "code",
   "execution_count": 3,
   "metadata": {},
   "outputs": [],
   "source": [
    "from selenium import webdriver  \n",
    "import time                           # 빠른 속도로 페이지가 넘어가다 오류 발생할 수 있으므로 time으로 delay 발생"
   ]
  },
  {
   "cell_type": "code",
   "execution_count": 4,
   "metadata": {},
   "outputs": [
    {
     "name": "stdout",
     "output_type": "stream",
     "text": [
      "문재인 대통령님을 응원 합니다!\n",
      "신천지 예수교 증거장막성전(이하, 신천지)의 강제 해체(해산)을 청원합니다.\n",
      "텔레그램 n번방 용의자 신상공개 및 포토라인 세워주세요\n",
      "텔레그램 n번방 가입자 전원의 신상공개를 원합니다\n",
      "코로나19의 확산방지를 위해 애써주시는 문재인대통령님과 질병관리본부 및 정부부처 관계자분들…\n",
      "한전 사업에 중국 기업의 참여를 허락하는 것은 말도 안됩니다.\n",
      "코로나19로 위기에 처한  국민들을위해 국회의원들의 월급반납 또는 삭감을  건의합니다\n",
      "문재인 대통령님의 탄핵을 원하지 않습니다.\n",
      "[국민청원(안)] 신천지 교주 이**의 즉각적인 구속수사를 촉구합니다.\n",
      "저희 25개월딸이 초등학생 5학년에게 성폭행을 당했습니다\n",
      "중국인 영주권자의 지방선거 투표권 박탈해야합니다.\n",
      "성전환 수술, 즉 외부성기 수술 없이도 남녀 성별을 변경하는 성별정정을 막아 주십시오.\n",
      "문재인대통령의 탄핵을 반대합니다!!~\n",
      "코로나 19 대책 및 문재인 대통령 하야추천\n",
      "대학교 개강 연기에 따른 등록금 인하 건의(02.29)\n",
      "윤석렬 총장에 대한 법무부 감찰을 요청합니다\n",
      "개학을 연기하고 휴업단계를 3단계로 올려주세요\n",
      "역차별, 현장 갈등 유발하는 교육공무직에 대해 다음과 같이 요구합니다.\n",
      "권영진 대구시장의 파면을 요구합니다\n",
      "대구 시민입니다 지금 너무나 분하고 슬프고 아픔니다\n",
      "\"신천지 압수수색은 신중해야\"외치는 검찰총장 윤석열의 파면을 요구합니다.\n",
      "마스크판매에 대한 제안\n",
      "의사협회 집행부들의 아집이 선을 넘었습니다.\n",
      "저는 아버지에게 15년동안 성폭행을 당했습니다. 도와주세요.\n",
      "코로나 **번째 무모한행동 강력처벌 원합니다\n",
      "학원에도 정부지원 휴업령이 필요합니다!\n",
      "가해자 n번방박사,n번방회원 모두 처벌해주세요\n",
      "수의사의 동물학대 사건을 검찰에서 법적용을 잘못해 무죄가 되었습니다\n",
      "문재인 대통령 탄핵 청원에 대한 반대 청원 및 게시글 삭제 청원\n",
      "N번방 대화 참여자들도 명단을 공개하고 처벌해주십시오\n",
      "텔레그램 아동.청소년 성노예 사건 철저한 수사 및 처벌 촉구합니다!!\n",
      "초등학생을 성폭행하고 찍은 불법촬영물로 협박해 금품을 갈취하여 인생을 망가뜨린 고등학생의 …\n",
      "마스크를 주민센터 세대명부대로 공급해 주세요\n",
      "조희연 교육감의 사퇴를 요구합니다\n",
      "시민들을 불안하게 하는 권영진 대구시장을 탄핵 청원합니다.\n",
      "전**목사님의 구속 취소를 청원 합니다\n",
      "유튜버 김** 10분동안 폭행, 소주병으로 머리 내리친 가해자 처벌 강화\n",
      "신천지 교주 이** 국가유공자 취소를 신청합니다!\n",
      "대구광역시를 특별재난지역으로 선포해 주실 것을 청원합니다.\n",
      "대구시의 특별감사, 감찰을 요구합니다\n",
      "서울시민의 세금으로 운영되는 tbs방송의 김어준씨 퇴출 청원합니다\n",
      "국회의원 연봉삭감 및 각종 특혜 폐지 청원\n",
      "코로나19로 인한 어린이집 휴원에 따른 보육료반환하여 양육수당으로 되돌려 달라는 청원을 반…\n",
      "유은혜를 교육부에서 퇴출시켜주십시오.\n",
      "문재인대통령 방송화면 모자이크 처리 부탁드립니다.\n",
      "재난기본소득 100만원 지급으로 코로나19 위기를 극복합시다\n",
      "코로나19 사태 국가에서 마스크를 조달청 나라장터 가격(1,000원 이하)수준으로 구매해서…\n",
      "신천지에 코로나19 긴급생활비 지원 반대합니다.\n",
      "코로나-19로 인해 어린이집을 쉬는 아이들에게 양육수당과 보육료를 동시에 지원을 해주세요!\n",
      "사이비 종교 신천지 교단 강제 폐단 및 법적 처벌을 청원합니다.\n",
      "마스크 공급체계 개선\n",
      "문재인 대통령 탄핵 촉구를 반대합니다.\n",
      "코로나19 바이러스에 대한 대책으로서 전국 대학교 한학기 휴교령을 요구합니다.\n",
      "코로나로 인한 휴원시 유치원비감면\n",
      "방송인 김어준을 공중파 방송에서 퇴출하라\n",
      "중국의 조직적 여론 조작 및 국권침탈행위를 엄중하게 수사하십시오.\n",
      "김병욱 의원, 금융위에 '한시적 공매도 금지' 요구에 동참합시다\n",
      "대통령에게 사기 친 금융위원장 - 공매도 사기\n",
      "박원순 서울시장 탄핵을 청원합니다.\n",
      "시진핑 방한을 반대합니다\n",
      "교육부장관 및 시도교육감은 교직 경력을 필수로 반영하게 해주십시오.\n",
      "돌봄과 악성민원으로부터 학교를 지켜주세요\n",
      "신천지교인생활비지원이 아닌 대구시민을 봐주십시오\n",
      "길게 말 안합니다. 문재인 코로나폐렴 사태 책임 지고 하야 하십시오\n",
      "뇌전증환자 사회적 낙인으로 인하여 더 이상 차별과 편견을 받지 않도록 \"뇌전증지원…\n",
      "개학 추가 연기 바랍니다.\n",
      "천안도와주세요\n",
      "문재인 대통령 탄핵을 촉구합니다\n",
      "모든 사업자의 2020년 상반기 부가가치세를 감면하여 주십시요!!!!\n",
      "전국  신천지 교회 전체  폐쇄해 주세요\n",
      "경북 경산을 특별재난관리 지역으로 지정해 주십시오\n",
      "차이나게이트 (중국게이트) 여론조작 에 대해서 엄중한 수사를 요구합니다\n",
      "중국인 유학생 청와대 견학시켜주세요\n",
      "무능한 감성팔이 대구시장 탄핵을 촉구합니다.\n",
      "신종 코로나 사태로 힘들어져 가는 경제를 살리는데 조금이나마 도움이 되도록 신한울 원전 3…\n",
      "항암 도와주세요\n",
      "이탈리아 교민의 대거 입국을 막아주세요.\n",
      "마스크라도 맘편히 구매할수있게해주세요\n",
      "코로나로인한 소상공인 부가세 일시적 면제\n",
      "간호사의 오늘을 지켜주세요\n",
      "사립유치원 교사들에 대한 대책 마련요구\n",
      "코로나19로 휴교한 학교의 방중비근무자 급여 지급\n",
      "추미애법무부 장관을 신임합니다\n",
      "7광구에 대한 조사 및 개발, 영유권 주장에 대한 정부의 조속한 조치를 촉구합니다.\n",
      "윤석열 검찰 총장을 당장 파면해 주십시요.\n",
      "신천지를 강제 수사하지 않는 윤석열 검찰총장을 즉각 해임시켜 주세요.\n",
      "단역배우두분 자살사건 재조사\n",
      "파트타임 운동 강사들도 구제받을 수 있는 제도가 있었으면 합니다.\n",
      "코로나19 관련하여 신천지 전수 조사  해주세요.\n",
      "불법사이트 단속과 저작권법을 강화해주세요!!! (8)\n",
      "미용실ㆍ네일ㆍ피부관리실살려주세요\n",
      "대구 개학 연기 기간 중 교직원 출근 금지를 강제해주세요.\n",
      "문재인 대통령에게 힘 내주실 것을 촉구합니다.\n",
      "코로나19  역외유입 방지위한  정책강화 요청\n",
      "조선족 게이트라는 음모론을 유포하는 이들을 엄벌해주십시오\n",
      "'신천지 교회'를 '신천지 집단'으로 명칭 교정을 청원…\n",
      "대구 경북에 대한 특별재난지역 선포를 금지해주실 것을 청원합니다.\n",
      "학원 휴원 강제압력은 국민의 생계를 위협하는 일입니다.\n",
      "코로나 19, 대구에 기부된 기부금 사용 내역 진상 규명바랍니다.\n",
      "초,중,고 개학을 3월 마지막주까지 미뤄주세요\n",
      "의료기관에 KF94이상의 마스크를 공급해주세요\n",
      "코로나19, 기부금의 사용처 공개 원합니다.\n",
      "전 국민을 위험에 빠트린 문재인 탄핵\n",
      "(코로나) 초, 중, 고 개학을 미뤄주시는걸 간곡히 요청합니다.\n",
      "코로나19 방역장비(마스크 등)의 개성공단 생산 제안\n",
      "문재인 대통령 탄핵 촉구를 반대합니다.\n",
      "아이들 개학 연기해주세요\n",
      "무능한 정권, 무능한 문재인 대통령은 하야하라!!\n",
      "문재인 대통령의 하야를 촉구합니다\n",
      "공매도 폐지 / 시장조성자 폐지 / 은성수 금융위원장 문책\n",
      "노인주야간보호센터도 국가적 위기 상황에서는  정부지원 하에 휴관을 할 수 있도록 청원합니다…\n",
      "이** 신천지교주 국가유공자상장 박탈해주세요\n",
      "현재 방과후 강사 급여 '0'원입니다.\n",
      "코로나 의료진들 방호복 지급해주십시요.\n",
      "주민자치센터외 공공기관에서 수업하는 있는 모든 프로그램 강사들의 생계가 위협 받고 있습니다…\n",
      "신천지 교주 이**를 즉각 구속하고, 신천지 총회 본부와 12지파 사무실을 압수수색해주세요\n",
      "보건용 마스크 정부 수매 및 저가 공급을 요청합니다.\n",
      "코로나 19! 추경 민생종합대책에서 소외된, 보건복지부 발달재활바우처, 교육청바우처, 지역…\n",
      "백혈병으로 고통받고있는 아이를 위해 car-t임상의 빠른 승인을 부탁드립니다.\n",
      "코로나-19관련 휴원명령 등으로 인해  폐반, 폐원 등의 사태가 더 이상 발생하지 않도록 …\n",
      "은행및 공공기관 단축근무  시행해주십시요\n",
      "신천지 교단의 강제 해산 반대를 청원합니다.\n",
      "문재인 대통령 탄핵을 반대하는 국민청원을 반대합니다\n",
      "3억 대주주 요건, 주식시장 침체 우려\n",
      "박근혜 대통령 석방 청원\n",
      "대통령님 억울합니다.\n",
      "“신천지 교회”의 명칭을 “신천지 집단”으로 명해 주십시오\n",
      "전국 교습학원 경영의 어려움을 호소합니다.\n",
      "안전하고 체계적인 지원 하의 긴급돌봄이 이뤄질 수 있도록 해주세요.\n",
      "신천지 수사 지시를 거부하는 윤석열 검찰총장 감찰을 청원합니다.\n",
      "코로나 이탈리아 전세기 지원을 반대합니다.\n",
      "코로나19 사태로 하늘을 날지 못하는 비행기의 주기비용(=주차비)를 한시적으로 면제해 주세…\n",
      "국회의원 월급을 3개월간 30프로라도 삭감,기부하세요\n",
      "조선족 게이트(차이나 게이트)에 대한 철저한 조사가 필요합니다!\n",
      "마스크국민께공평신속배급을 동사무소에서세대별로공급하기\n"
     ]
    }
   ],
   "source": [
    "# 1page ~ 9page 까지 자동으로 크롤링 진행 (for문 indentation 주의)\n",
    "result_list = []\n",
    "\n",
    "driver = webdriver.Chrome(\"./chromedriver\")\n",
    "for i in range(1, 10):\n",
    "    driver.get(\"https://www1.president.go.kr/petitions/best?page=\" + str(i))\n",
    "    soup = BeautifulSoup(driver.page_source, 'html.parser')\n",
    "    \n",
    "    for i in soup.select(\"#cont_view > div.cs_area > div > div > div.board.text > div.b_list.category > div.bl_body > ul > li\"):\n",
    "        print(i.find(\"div\", class_=\"bl_subject\").text[3:].strip())\n",
    "        result_list.append(i.find(\"div\", class_=\"bl_subject\").text[3:].strip())\n",
    "    time.sleep(5)                      # 한 페이지를 마무리 한 후, 5초동안 쉬었다가 다음 페이지로 넘어감 (오류 줄이기 위함) "
   ]
  },
  {
   "cell_type": "code",
   "execution_count": 5,
   "metadata": {},
   "outputs": [],
   "source": [
    "driver.close()"
   ]
  },
  {
   "cell_type": "markdown",
   "metadata": {},
   "source": [
    "# 4. 데이터 엑셀에 저장"
   ]
  },
  {
   "cell_type": "code",
   "execution_count": 6,
   "metadata": {},
   "outputs": [],
   "source": [
    "from openpyxl import Workbook"
   ]
  },
  {
   "cell_type": "code",
   "execution_count": 7,
   "metadata": {},
   "outputs": [],
   "source": [
    "write_workbook = Workbook()"
   ]
  },
  {
   "cell_type": "code",
   "execution_count": 8,
   "metadata": {},
   "outputs": [],
   "source": [
    "write_cell = write_workbook.active"
   ]
  },
  {
   "cell_type": "code",
   "execution_count": 9,
   "metadata": {},
   "outputs": [],
   "source": [
    "for i in range(1,len(result_list)+1):\n",
    "    write_cell.cell(i,1,result_list[i-1])"
   ]
  },
  {
   "cell_type": "code",
   "execution_count": 10,
   "metadata": {},
   "outputs": [],
   "source": [
    "write_workbook.save(\"bluehouse.xlsx\")"
   ]
  }
 ],
 "metadata": {
  "kernelspec": {
   "display_name": "Python 3",
   "language": "python",
   "name": "python3"
  },
  "language_info": {
   "codemirror_mode": {
    "name": "ipython",
    "version": 3
   },
   "file_extension": ".py",
   "mimetype": "text/x-python",
   "name": "python",
   "nbconvert_exporter": "python",
   "pygments_lexer": "ipython3",
   "version": "3.6.5"
  }
 },
 "nbformat": 4,
 "nbformat_minor": 2
}
